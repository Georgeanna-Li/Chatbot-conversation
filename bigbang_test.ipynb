{
  "cells": [
    {
      "cell_type": "markdown",
      "metadata": {
        "id": "DazH4uUxezoK"
      },
      "source": [
        "# Chatbot-example"
      ]
    },
    {
      "cell_type": "markdown",
      "metadata": {
        "id": "-MxlsrmzezoL"
      },
      "source": [
        "Import"
      ]
    },
    {
      "cell_type": "code",
      "execution_count": 1,
      "metadata": {
        "id": "r6OtWWtMezoL"
      },
      "outputs": [],
      "source": [
        "import re\n",
        "from sklearn.feature_extraction.text import TfidfVectorizer\n",
        "import numpy as np\n",
        "import sqlite3"
      ]
    },
    {
      "cell_type": "markdown",
      "metadata": {
        "id": "Nc78qHvTezoM"
      },
      "source": [
        "First we extract the user input and the replies from the corpus, and put them into a database."
      ]
    },
    {
      "cell_type": "code",
      "execution_count": 8,
      "metadata": {
        "id": "PgVyuiQdezoM"
      },
      "outputs": [],
      "source": [
        "con = sqlite3.connect('bigbang.db')\n",
        "con.text_factory = str\n",
        "cur = con.cursor()\n",
        "# cur.execute(\"\"\"\n",
        "# DROP TABLE IF EXISTS corpus\n",
        "# ;\n",
        "# \"\"\")\n",
        "cur.execute(\"\"\"\n",
        "CREATE TABLE IF NOT EXISTS \n",
        "corpus(input, output)\n",
        ";\n",
        "\"\"\")\n",
        "               \n",
        "with open('big_bang_test.txt') as f:\n",
        "    lines = f.readlines()\n",
        "\n",
        "    for line in lines:\n",
        "        # print(line)\n",
        "        if \"User\" in line:\n",
        "            input = line[(line.index(\":\")+2):-2]\n",
        "            output = []\n",
        "            continue\n",
        "        if line == \"\\r\\n\":\n",
        "            output = [one.replace(\"Esmerelda Quest Bot Says: \", \"\").replace(\"\\r\\n\", \"\") for one in output]\n",
        "            output = ''.join(map(str, output))\n",
        "            cur.execute(\"INSERT INTO corpus VALUES (?, ?)\", (input, output))\n",
        "            input = None\n",
        "            # break\n",
        "        if input:\n",
        "            output.append(line)\n",
        "\n",
        "con.commit()\n",
        "con.close()"
      ]
    },
    {
      "cell_type": "markdown",
      "metadata": {
        "id": "U4qZ030JezoN"
      },
      "source": [
        "We extract sentences from the dataset."
      ]
    },
    {
      "cell_type": "code",
      "execution_count": 10,
      "metadata": {
        "id": "MWny9GODezoN"
      },
      "outputs": [],
      "source": [
        "con = sqlite3.connect('bigbang.db')\n",
        "cur = con.cursor()\n",
        "result = []\n",
        "response = []\n",
        "\n",
        "for row in con.execute(\"SELECT input FROM corpus\"):\n",
        "    # print(row)\n",
        "    result.append(row)\n",
        "\n",
        "for row in con.execute(\"SELECT output FROM corpus\"):\n",
        "    # print(row)\n",
        "    response.append(row)\n",
        "con.close()\n"
      ]
    },
    {
      "cell_type": "code",
      "execution_count": 11,
      "metadata": {
        "id": "3uDKbCyZezoO"
      },
      "outputs": [],
      "source": [
        "result = [one[0] for one in result]\n",
        "response = [one[0] for one in response]"
      ]
    },
    {
      "cell_type": "code",
      "source": [
        "result"
      ],
      "metadata": {
        "colab": {
          "base_uri": "https://localhost:8080/"
        },
        "id": "N5lKeCcIf979",
        "outputId": "fd9a1539-2647-4681-9df8-83f993fabc47"
      },
      "execution_count": 14,
      "outputs": [
        {
          "output_type": "execute_result",
          "data": {
            "text/plain": [
              "['Can you give me another hint about favorite episodes',\n",
              " 'I like it when Raj and Lucy text date',\n",
              " 'Prom websites',\n",
              " 'sorry, autocorrect',\n",
              " 'Can you give me a hint about when Raj and Lucy text date',\n",
              " 'Can you give me a hint about when Bert talks to Penny',\n",
              " 'I like it when Bert talks to Penny',\n",
              " 'If you steal my idol',\n",
              " '6 tons of granite and micacious schist',\n",
              " 'I will roll right over you',\n",
              " 'I like Thor and Doctor Jones',\n",
              " 'One plays with lightning',\n",
              " 'The Justice League one',\n",
              " 'A costume contest',\n",
              " 'I’m Superman',\n",
              " 'Sheldon is the Flash',\n",
              " 'I’m pacing',\n",
              " 'Raj is Aquaman',\n",
              " 'Aquaman sucks under water',\n",
              " 'Leonard is Green Lantern',\n",
              " 'Glasses',\n",
              " 'Howard is Batman',\n",
              " 'Penny is Wonder Woman',\n",
              " 'I like it when Leonard talks to Penny about Wonder Woman']"
            ]
          },
          "metadata": {},
          "execution_count": 14
        }
      ]
    },
    {
      "cell_type": "markdown",
      "metadata": {
        "id": "XTH1sgiYezoP"
      },
      "source": [
        "This is what we would do if we simply read from the txt."
      ]
    },
    {
      "cell_type": "code",
      "execution_count": null,
      "metadata": {
        "id": "ks70t5FpezoP"
      },
      "outputs": [],
      "source": [
        "# i = 0\n",
        "# xinyi = []\n",
        "\n",
        "# with open(\"big_bang_test.txt\") as f:\n",
        "#     conversation = f.readlines()\n",
        "#     for sent in conversation:\n",
        "#         if re.match(\"Xinyi the User says:\",sent) is not None:\n",
        "#             xinyi.append(sent[21:-1])\n",
        "# print(xinyi)"
      ]
    },
    {
      "cell_type": "markdown",
      "metadata": {
        "id": "3pJC7CK3ezoP"
      },
      "source": [
        "Main function:"
      ]
    },
    {
      "cell_type": "code",
      "execution_count": 13,
      "metadata": {
        "id": "3ENC1rT1ezoP"
      },
      "outputs": [],
      "source": [
        "def compare_similarity(corpus, reply, text):\n",
        "    \"\"\"\n",
        "    This function compares the similarity between the given inquiry with the conversation corpus.\n",
        "\n",
        "    ----------------------------------\n",
        "    corpus: list\n",
        "        a list of inquiries.\n",
        "    text: string\n",
        "        user input\n",
        "    \"\"\"\n",
        "\n",
        "    new_corpus = corpus.copy()\n",
        "    new_corpus.append(text)\n",
        "    tfidf = TfidfVectorizer().fit_transform(new_corpus)\n",
        "    pairwise_similarity = tfidf * tfidf.T \n",
        "    arr = pairwise_similarity.toarray() \n",
        "    np.fill_diagonal(arr, np.nan)\n",
        "\n",
        "    result_idx = np.nanargmax(arr[-1])\n",
        "\n",
        "    return (new_corpus[result_idx], reply[result_idx])\n"
      ]
    },
    {
      "cell_type": "markdown",
      "metadata": {
        "id": "GP1gvXM8ezoQ"
      },
      "source": [
        "Example: when the user says \"raj lucy dating\", the chat bot would assume the default topic 'I like it when Raj and Lucy text date', and replies accordingly."
      ]
    },
    {
      "cell_type": "code",
      "execution_count": 16,
      "metadata": {
        "colab": {
          "base_uri": "https://localhost:8080/"
        },
        "id": "BCueB3ZDezoQ",
        "outputId": "beb6d94a-e986-4e08-a9d5-7e45a7e285ed"
      },
      "outputs": [
        {
          "output_type": "execute_result",
          "data": {
            "text/plain": [
              "('I like it when Raj and Lucy text date',\n",
              " 'At the library, so her shyness won’t be as obvious, and since he can’t speak to women, he can text back and forth with her. Lucy asks him, I don’t know, do you visit a lot of porn websites?')"
            ]
          },
          "metadata": {},
          "execution_count": 16
        }
      ],
      "source": [
        "input = \"raj lucy dating\"\n",
        "compare_similarity(result, response, input)"
      ]
    },
    {
      "cell_type": "markdown",
      "source": [
        "Chatbot function and some simple examples"
      ],
      "metadata": {
        "id": "61tFdpvUkDN9"
      }
    },
    {
      "cell_type": "code",
      "source": [
        "def chatbot():\n",
        "    from builtins import input\n",
        "    user = input(\"User: \")\n",
        "    print(\"Chatbot: \"+compare_similarity(result, response, user)[1])"
      ],
      "metadata": {
        "id": "eyxYTm_wgw1m"
      },
      "execution_count": 38,
      "outputs": []
    },
    {
      "cell_type": "code",
      "source": [
        "chatbot()"
      ],
      "metadata": {
        "colab": {
          "base_uri": "https://localhost:8080/"
        },
        "id": "eLAU1BumhEq-",
        "outputId": "4a218857-dba9-44a6-9392-851587572084"
      },
      "execution_count": 39,
      "outputs": [
        {
          "output_type": "stream",
          "name": "stdout",
          "text": [
            "User: raj lucy date\n",
            "Chatbot: At the library, so her shyness won’t be as obvious, and since he can’t speak to women, he can text back and forth with her. Lucy asks him, I don’t know, do you visit a lot of porn websites?\n"
          ]
        }
      ]
    },
    {
      "cell_type": "code",
      "source": [
        "chatbot()"
      ],
      "metadata": {
        "colab": {
          "base_uri": "https://localhost:8080/"
        },
        "id": "WqO6shWOi3Yy",
        "outputId": "545681f5-9286-4468-ccde-517934b49e48"
      },
      "execution_count": 40,
      "outputs": [
        {
          "output_type": "stream",
          "name": "stdout",
          "text": [
            "User: superman\n",
            "Chatbot: With lifts in my boots, I’ll be taller this year. So they start showing up in costume, and they have really good costumes. Who is the Flash?\n"
          ]
        }
      ]
    },
    {
      "cell_type": "code",
      "source": [
        "chatbot()"
      ],
      "metadata": {
        "colab": {
          "base_uri": "https://localhost:8080/"
        },
        "id": "LC1lTPMFjGxz",
        "outputId": "d434f5ca-e9b6-4d60-f8ba-f04c12006382"
      },
      "execution_count": 41,
      "outputs": [
        {
          "output_type": "stream",
          "name": "stdout",
          "text": [
            "User: Prom\n",
            "Chatbot: Sorry, autocorrect. And then Raj gushes over actually visiting prom websites, and HE says\n"
          ]
        }
      ]
    },
    {
      "cell_type": "code",
      "source": [
        "chatbot()"
      ],
      "metadata": {
        "colab": {
          "base_uri": "https://localhost:8080/"
        },
        "id": "vtW2BCLIjfeE",
        "outputId": "facdee05-f53f-4209-8f89-59f1cc23a92f"
      },
      "execution_count": 42,
      "outputs": [
        {
          "output_type": "stream",
          "name": "stdout",
          "text": [
            "User: Justice League\n",
            "Chatbot: They were in the comic book store and Stuart announces there is going to be a contest\n"
          ]
        }
      ]
    }
  ],
  "metadata": {
    "interpreter": {
      "hash": "c1a4c91d8dc679120fabb6d248dc70651c4e003a5a92fc0948a78621023502fe"
    },
    "kernelspec": {
      "display_name": "Python 3.8.0 64-bit ('3.8.0': pyenv)",
      "language": "python",
      "name": "python3"
    },
    "language_info": {
      "codemirror_mode": {
        "name": "ipython",
        "version": 3
      },
      "file_extension": ".py",
      "mimetype": "text/x-python",
      "name": "python",
      "nbconvert_exporter": "python",
      "pygments_lexer": "ipython3",
      "version": "3.9.5"
    },
    "orig_nbformat": 4,
    "colab": {
      "name": "bigbang_test.ipynb",
      "provenance": []
    }
  },
  "nbformat": 4,
  "nbformat_minor": 0
}